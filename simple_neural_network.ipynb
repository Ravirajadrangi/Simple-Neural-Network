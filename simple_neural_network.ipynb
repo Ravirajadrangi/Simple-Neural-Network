{
 "cells": [
  {
   "cell_type": "code",
   "execution_count": 1,
   "metadata": {
    "collapsed": true,
    "deletable": true,
    "editable": true
   },
   "outputs": [],
   "source": [
    "# copyright @2016 PankajMathur.com\n",
    "\n",
    "# Simple Neural Network for Mnist DataSets\n",
    "\n",
    "import numpy\n",
    "# scipy.special for the sigmoid function expit()\n",
    "import scipy.special\n",
    "# library for plotting arrays\n",
    "import matplotlib.pyplot\n",
    "# ensure the plots are inside this notebook, not an external window\n",
    "%matplotlib inline\n",
    "# scipy.ndimage for rotating image arrays\n",
    "import scipy.ndimage"
   ]
  },
  {
   "cell_type": "code",
   "execution_count": 2,
   "metadata": {
    "collapsed": false,
    "deletable": true,
    "editable": true
   },
   "outputs": [],
   "source": [
    "# neural network class definition\n",
    "class neuralNetwork:\n",
    "    \n",
    "    \n",
    "    # initialise the neural network\n",
    "    def __init__(self, inputnodes, hiddennodes, outputnodes, learningrate):\n",
    "        # set number of nodes in each input, hidden, output layer\n",
    "        self.inodes = inputnodes\n",
    "        self.hnodes = hiddennodes\n",
    "        self.onodes = outputnodes\n",
    "        \n",
    "        # link weight matrices, wih and who\n",
    "        # weights inside the arrays are w_i_j, where link is from node i to node j in the next layer\n",
    "        # w11 w21\n",
    "        # w12 w22 etc \n",
    "        self.wih = numpy.random.normal(0.0, pow(self.hnodes, -0.5), (self.hnodes, self.inodes))\n",
    "        self.who = numpy.random.normal(0.0, pow(self.onodes, -0.5), (self.onodes, self.hnodes))\n",
    "\n",
    "        # learning rate\n",
    "        self.lr = learningrate\n",
    "        \n",
    "        # activation function is the sigmoid function\n",
    "        self.activation_function = lambda x: scipy.special.expit(x)\n",
    "        \n",
    "        # activation function is the logit function\n",
    "        self.activation_function = lambda x: scipy.special.expit(x)\n",
    "    \n",
    "    # train the neural network\n",
    "    def train(self, inputs_list, targets_list):\n",
    "        # convert inputs list to 2d array\n",
    "        inputs = numpy.array(inputs_list, ndmin=2).T\n",
    "        targets = numpy.array(targets_list, ndmin=2).T\n",
    "        \n",
    "        # calculate signals into hidden layer\n",
    "        hidden_inputs = numpy.dot(self.wih, inputs)\n",
    "        # calculate the signals emerging from hidden layer\n",
    "        hidden_outputs = self.activation_function(hidden_inputs)\n",
    "        \n",
    "        # calculate signals into final output layer\n",
    "        final_inputs = numpy.dot(self.who, hidden_outputs)\n",
    "        # calculate the signals emerging from final output layer\n",
    "        final_outputs = self.activation_function(final_inputs)\n",
    "        \n",
    "        # output layer error is the (target - actual)\n",
    "        output_errors = targets - final_outputs\n",
    "        # hidden layer error is the output_errors, split by weights, recombined at hidden nodes\n",
    "        hidden_errors = numpy.dot(self.who.T, output_errors) \n",
    "        \n",
    "        # update the weights for the links between the hidden and output layers\n",
    "        self.who += self.lr * numpy.dot((output_errors * final_outputs * (1.0 - final_outputs)), numpy.transpose(hidden_outputs))\n",
    "        \n",
    "        # update the weights for the links between the input and hidden layers\n",
    "        self.wih += self.lr * numpy.dot((hidden_errors * hidden_outputs * (1.0 - hidden_outputs)), numpy.transpose(inputs))\n",
    "\n",
    "    \n",
    "    # query the neural network\n",
    "    def query(self, inputs_list):\n",
    "        # convert inputs list to 2d array\n",
    "        inputs = numpy.array(inputs_list, ndmin=2).T\n",
    "        \n",
    "        # calculate signals into hidden layer\n",
    "        hidden_inputs = numpy.dot(self.wih, inputs)\n",
    "        # calculate the signals emerging from hidden layer\n",
    "        hidden_outputs = self.activation_function(hidden_inputs)\n",
    "        \n",
    "        # calculate signals into final output layer\n",
    "        final_inputs = numpy.dot(self.who, hidden_outputs)\n",
    "        # calculate the signals emerging from final output layer\n",
    "        final_outputs = self.activation_function(final_inputs)\n",
    "        \n",
    "        return final_outputs"
   ]
  },
  {
   "cell_type": "code",
   "execution_count": 8,
   "metadata": {
    "collapsed": false,
    "deletable": true,
    "editable": true
   },
   "outputs": [],
   "source": [
    "# number of input, hidden and output nodes\n",
    "input_nodes = 784\n",
    "hidden_nodes = 512\n",
    "output_nodes = 10\n",
    "\n",
    "# learning rate\n",
    "learning_rate = 0.01\n",
    "\n",
    "# create instance of neural network\n",
    "n = neuralNetwork(input_nodes,hidden_nodes,output_nodes, learning_rate)"
   ]
  },
  {
   "cell_type": "code",
   "execution_count": 9,
   "metadata": {
    "collapsed": false,
    "deletable": true,
    "editable": true
   },
   "outputs": [
    {
     "name": "stdout",
     "output_type": "stream",
     "text": [
      "length of Original Training file 42001\n",
      "length of Validation file 8400\n",
      "length of Training file 33600\n"
     ]
    }
   ],
   "source": [
    "# load the mnist training data CSV file into a list\n",
    "training_data_file = open(\"train.csv\", 'r')\n",
    "training_data_list = training_data_file.readlines()\n",
    "print (\"length of Original Training file\", len(training_data_list))\n",
    "\n",
    "# Take out first row as it contain columns name\n",
    "\n",
    "# create a validtion data list, first 8400 rows\n",
    "validation_data_list = training_data_list[1:8401]\n",
    "print (\"length of Validation file\", len(validation_data_list))\n",
    "\n",
    "# create a final training data list remaining 33600 rows\n",
    "training_data_list = training_data_list[8401:]\n",
    "\n",
    "print (\"length of Training file\", len(training_data_list))\n",
    "\n",
    "training_data_file.close()"
   ]
  },
  {
   "cell_type": "code",
   "execution_count": 10,
   "metadata": {
    "collapsed": false,
    "deletable": true,
    "editable": true
   },
   "outputs": [
    {
     "name": "stdout",
     "output_type": "stream",
     "text": [
      "\n",
      " Epoch = 1  Training SNN on kaggle default data and then Clockwise and anticlockwise version\n",
      "\n",
      " Epoch = 2  Training SNN on kaggle default data and then Clockwise and anticlockwise version\n",
      "\n",
      " Epoch = 3  Training SNN on kaggle default data and then Clockwise and anticlockwise version\n",
      "\n",
      " Epoch = 4  Training SNN on kaggle default data and then Clockwise and anticlockwise version\n",
      "\n",
      " Epoch = 5  Training SNN on kaggle default data and then Clockwise and anticlockwise version\n",
      "\n",
      " Epoch = 6  Training SNN on kaggle default data and then Clockwise and anticlockwise version\n",
      "\n",
      " Epoch = 7  Training SNN on kaggle default data and then Clockwise and anticlockwise version\n",
      "\n",
      " Epoch = 8  Training SNN on kaggle default data and then Clockwise and anticlockwise version\n",
      "\n",
      " Epoch = 9  Training SNN on kaggle default data and then Clockwise and anticlockwise version\n",
      "\n",
      " Epoch = 10  Training SNN on kaggle default data and then Clockwise and anticlockwise version\n",
      "\n",
      " All Set!, SNN (Simple Neural Network) is trained in 10 epochs\n"
     ]
    }
   ],
   "source": [
    "# train the neural network\n",
    "\n",
    "# epochs is the number of times the training data set is used for training\n",
    "epochs = 10\n",
    "\n",
    "for e in range(epochs):\n",
    "    \n",
    "    # go through all records in the training data set\n",
    "    for record in training_data_list:\n",
    "        \n",
    "        # split the record by the ',' commas\n",
    "        all_values = record.split(',')\n",
    "        \n",
    "        # scale and shift the inputs\n",
    "        # for image rgb is 256, so divide by 256 and then to avoid 1 * it by 0.99\n",
    "        # and to avoid 0 add 0.1 to everything\n",
    "        # input should only have pixel so take out label column out of it\n",
    "        # which is first column in data so [1:]\n",
    "        inputs = (numpy.asfarray(all_values[1:]) / 256.0 * 0.99) + 0.01\n",
    "        \n",
    "        # create the target output values matrix by using numpy zeros matrix \n",
    "        # and then add 0.01 to all\n",
    "        targets = numpy.zeros(output_nodes) + 0.01\n",
    "        \n",
    "        #, except the desired label place in numpy zeros matrix, andm make it 0.99\n",
    "        # all_values[0] is the target label for this record\n",
    "        targets[int(all_values[0])] = 0.99\n",
    "        \n",
    "        #train the model\n",
    "        n.train(inputs, targets)\n",
    "        \n",
    "        ## create rotated variations of default kaggle data\n",
    "        \n",
    "        # training data rotated anticlockwise by x degrees\n",
    "        inputs_plusx_img = scipy.ndimage.interpolation.rotate(inputs.reshape(28,28), 10, cval=0.01, order=1, reshape=False)\n",
    "        n.train(inputs_plusx_img.reshape(784), targets)\n",
    "        \n",
    "        # training data rotated clockwise by x degrees \n",
    "        inputs_minusx_img = scipy.ndimage.interpolation.rotate(inputs.reshape(28,28), -10, cval=0.01, order=1, reshape=False)\n",
    "        n.train(inputs_minusx_img.reshape(784), targets)\n",
    "        \n",
    "        # rotated anticlockwise by 10 degrees\n",
    "        #inputs_plus10_img = scipy.ndimage.interpolation.rotate(inputs.reshape(28,28), 10, cval=0.01, order=1, reshape=False)\n",
    "        #n.train(inputs_plus10_img.reshape(784), targets)\n",
    "        # rotated clockwise by 10 degrees\n",
    "        #inputs_minus10_img = scipy.ndimage.interpolation.rotate(inputs.reshape(28,28), -10, cval=0.01, order=1, reshape=False)\n",
    "        #n.train(inputs_minus10_img.reshape(784), targets)\n",
    "        \n",
    "        \n",
    "        pass\n",
    "    print (\"\\n Epoch =\",e+1,\" Training SNN on kaggle default data and then Clockwise and anticlockwise version\")\n",
    "    pass\n",
    "\n",
    "print (\"\\n All Set!, SNN (Simple Neural Network) is trained in\",e+1 ,\"epochs\")"
   ]
  },
  {
   "cell_type": "code",
   "execution_count": 11,
   "metadata": {
    "collapsed": false,
    "deletable": true,
    "editable": true
   },
   "outputs": [
    {
     "name": "stdout",
     "output_type": "stream",
     "text": [
      "performance =  0.976547619048\n"
     ]
    }
   ],
   "source": [
    "# Validate our Trained SNN (Simple Neural Network) with validation data\n",
    "# query kaggle test data with our trained SNN (Simple Neural Network)\n",
    "\n",
    "# scorecard for how well the SNN performs in validation test, initially empty\n",
    "\n",
    "scorecard = []\n",
    "\n",
    "# go through all the records in the test data set\n",
    "for record in validation_data_list:\n",
    "    # split the record by the ',' commas\n",
    "    all_values = record.split(',')\n",
    "    # correct answer is first value\n",
    "    correct_label = int(all_values[0])\n",
    "    # scale and shift the inputs\n",
    "    inputs = (numpy.asfarray(all_values[1:]) / 255.0 * 0.99) + 0.01\n",
    "    # query the network\n",
    "    outputs = n.query(inputs)\n",
    "    # the index of the highest value corresponds to the label\n",
    "    label = numpy.argmax(outputs)\n",
    "    # append correct or incorrect to list\n",
    "    if (label == correct_label):\n",
    "        # network's answer matches correct answer, add 1 to scorecard\n",
    "        scorecard.append(1)\n",
    "    else:\n",
    "        # network's answer doesn't match correct answer, add 0 to scorecard\n",
    "        scorecard.append(0)\n",
    "        pass\n",
    "    \n",
    "    pass\n",
    "\n",
    "# calculate the performance score, the fraction of correct answers\n",
    "scorecard_array = numpy.asarray(scorecard)\n",
    "print (\"performance = \", scorecard_array.sum() / scorecard_array.size)"
   ]
  },
  {
   "cell_type": "code",
   "execution_count": 12,
   "metadata": {
    "collapsed": false,
    "deletable": true,
    "editable": true
   },
   "outputs": [
    {
     "name": "stdout",
     "output_type": "stream",
     "text": [
      "len of kaggle test data without column name 28000\n"
     ]
    }
   ],
   "source": [
    "# Now, to test our SNN on Kaggle Test data, \n",
    "# let's load the mnist test data CSV file into a list\n",
    "test_data_file = open(\"test.csv\", 'r')\n",
    "test_data_list = test_data_file.readlines()\n",
    "test_data_list = test_data_list[1:]\n",
    "test_data_file.close()\n",
    "\n",
    "print (\"len of kaggle test data without column name\", len(test_data_list) )"
   ]
  },
  {
   "cell_type": "code",
   "execution_count": 13,
   "metadata": {
    "collapsed": false,
    "deletable": true,
    "editable": true
   },
   "outputs": [
    {
     "name": "stdout",
     "output_type": "stream",
     "text": [
      "len of test_file_output 28000\n"
     ]
    }
   ],
   "source": [
    "# query kaggle test data with our trained Neural Network\n",
    "\n",
    "test_file_output = []\n",
    "ImageIdIndex = 0\n",
    "\n",
    "# go through all the records in the test data set\n",
    "for record in test_data_list:\n",
    "    \n",
    "    # append empty list for every record\n",
    "    test_file_output.append([])\n",
    "    \n",
    "    # add ImageId to empyt list\n",
    "    test_file_output[ImageIdIndex].append(ImageIdIndex+1)\n",
    "    \n",
    "    # split the record by the ',' commas\n",
    "    all_values = record.split(',')\n",
    "    \n",
    "    # scale and shift the inputs\n",
    "    inputs = (numpy.asfarray(all_values[0:]) / 256.0 * 0.99) + 0.01\n",
    "    \n",
    "    # query the network\n",
    "    outputs = n.query(inputs)\n",
    "    \n",
    "    # the index of the highest value corresponds to the label\n",
    "    label = numpy.argmax(outputs)\n",
    "    \n",
    "    # add label to corresponding ImageId list\n",
    "    test_file_output[ImageIdIndex].append(label)\n",
    "    \n",
    "    #increment ImageId index\n",
    "    ImageIdIndex += 1\n",
    "    \n",
    "    pass\n",
    "\n",
    "print (\"len of test_file_output\", len(test_file_output))"
   ]
  },
  {
   "cell_type": "code",
   "execution_count": 14,
   "metadata": {
    "collapsed": false,
    "deletable": true,
    "editable": true
   },
   "outputs": [
    {
     "name": "stdout",
     "output_type": "stream",
     "text": [
      "Submission 14 File Created, use latest outputX.csv file to upload to kaggle, to see results\n"
     ]
    }
   ],
   "source": [
    "import csv\n",
    "with open('output14.csv','w') as f:\n",
    "    writer = csv.writer(f)\n",
    "    writer.writerow(['ImageId', 'Label'])\n",
    "    writer.writerows(test_file_output)\n",
    "    print (\"Submission 14 File Created, use latest outputX.csv file to upload to kaggle, to see results\")"
   ]
  },
  {
   "cell_type": "code",
   "execution_count": null,
   "metadata": {
    "collapsed": false,
    "deletable": true,
    "editable": true
   },
   "outputs": [],
   "source": []
  },
  {
   "cell_type": "code",
   "execution_count": null,
   "metadata": {
    "collapsed": true,
    "deletable": true,
    "editable": true
   },
   "outputs": [],
   "source": []
  }
 ],
 "metadata": {
  "anaconda-cloud": {},
  "kernelspec": {
   "display_name": "Python 3",
   "language": "python",
   "name": "python3"
  },
  "language_info": {
   "codemirror_mode": {
    "name": "ipython",
    "version": 3
   },
   "file_extension": ".py",
   "mimetype": "text/x-python",
   "name": "python",
   "nbconvert_exporter": "python",
   "pygments_lexer": "ipython3",
   "version": "3.6.1"
  }
 },
 "nbformat": 4,
 "nbformat_minor": 0
}
